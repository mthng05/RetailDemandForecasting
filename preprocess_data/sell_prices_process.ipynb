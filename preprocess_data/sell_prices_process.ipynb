{
 "cells": [
  {
   "cell_type": "code",
   "execution_count": 1,
   "id": "547e8c13",
   "metadata": {},
   "outputs": [],
   "source": [
    "import sys, os\n",
    "sys.path.append(os.path.abspath(\"..\"))  \n",
    "from utils.load_config import load_cfg\n",
    "from utils.minio_client import MinioClient\n",
    "import pandas as pd\n",
    "from io import StringIO"
   ]
  },
  {
   "cell_type": "code",
   "execution_count": 2,
   "id": "f826cc9b",
   "metadata": {},
   "outputs": [],
   "source": [
    "config = load_cfg('../config/config.yaml')\n",
    "minio_config = config['minio']\n",
    "processed_folder_path = config['dataset']['processed_path']"
   ]
  },
  {
   "cell_type": "code",
   "execution_count": 3,
   "id": "1efb6b5f",
   "metadata": {},
   "outputs": [
    {
     "name": "stdout",
     "output_type": "stream",
     "text": [
      "Bucket \"m5-forecasting-bucket\" already exists.\n",
      "  store_id        item_id  wm_yr_wk  sell_price\n",
      "0     CA_1  HOBBIES_1_001     11325        9.58\n",
      "1     CA_1  HOBBIES_1_001     11326        9.58\n",
      "2     CA_1  HOBBIES_1_001     11327        8.26\n",
      "3     CA_1  HOBBIES_1_001     11328        8.26\n",
      "4     CA_1  HOBBIES_1_001     11329        8.26\n"
     ]
    }
   ],
   "source": [
    "minio_client = MinioClient(minio_config)\n",
    "\n",
    "# get sell_prices on minio\n",
    "sell_prices = minio_client.get_file(\n",
    "    bucket_name=minio_config['bucket_name'],\n",
    "    object_name='sell_prices'\n",
    ")\n",
    "\n",
    "sell_prices_df = pd.read_csv(StringIO(sell_prices))\n",
    "print(sell_prices_df.head())"
   ]
  },
  {
   "cell_type": "code",
   "execution_count": 4,
   "id": "af7bbaad",
   "metadata": {},
   "outputs": [
    {
     "data": {
      "text/plain": [
       "6841121"
      ]
     },
     "execution_count": 4,
     "metadata": {},
     "output_type": "execute_result"
    }
   ],
   "source": [
    "len(sell_prices_df)"
   ]
  },
  {
   "cell_type": "markdown",
   "id": "3a4b0782",
   "metadata": {},
   "source": [
    "# For each store id, get only 10000 first rows"
   ]
  },
  {
   "cell_type": "code",
   "execution_count": 5,
   "id": "3d884342",
   "metadata": {},
   "outputs": [
    {
     "data": {
      "text/plain": [
       "store_id\n",
       "CA_1    10000\n",
       "CA_2    10000\n",
       "CA_3    10000\n",
       "CA_4    10000\n",
       "TX_1    10000\n",
       "TX_2    10000\n",
       "TX_3    10000\n",
       "WI_1    10000\n",
       "WI_2    10000\n",
       "WI_3    10000\n",
       "dtype: int64"
      ]
     },
     "execution_count": 5,
     "metadata": {},
     "output_type": "execute_result"
    }
   ],
   "source": [
    "filtered_sell_price_df = sell_prices_df.groupby('store_id').head(10000).reset_index(drop=True)\n",
    "filtered_sell_price_df.groupby('store_id').size()"
   ]
  },
  {
   "cell_type": "code",
   "execution_count": 6,
   "id": "637271c5",
   "metadata": {},
   "outputs": [
    {
     "data": {
      "text/html": [
       "<div>\n",
       "<style scoped>\n",
       "    .dataframe tbody tr th:only-of-type {\n",
       "        vertical-align: middle;\n",
       "    }\n",
       "\n",
       "    .dataframe tbody tr th {\n",
       "        vertical-align: top;\n",
       "    }\n",
       "\n",
       "    .dataframe thead th {\n",
       "        text-align: right;\n",
       "    }\n",
       "</style>\n",
       "<table border=\"1\" class=\"dataframe\">\n",
       "  <thead>\n",
       "    <tr style=\"text-align: right;\">\n",
       "      <th></th>\n",
       "      <th>store_id</th>\n",
       "      <th>item_id</th>\n",
       "      <th>wm_yr_wk</th>\n",
       "      <th>sell_price</th>\n",
       "      <th>state</th>\n",
       "      <th>store_in_state</th>\n",
       "      <th>category</th>\n",
       "      <th>subcategory</th>\n",
       "      <th>item_number</th>\n",
       "    </tr>\n",
       "  </thead>\n",
       "  <tbody>\n",
       "    <tr>\n",
       "      <th>0</th>\n",
       "      <td>CA_1</td>\n",
       "      <td>HOBBIES_1_001</td>\n",
       "      <td>11325</td>\n",
       "      <td>9.58</td>\n",
       "      <td>CA</td>\n",
       "      <td>1</td>\n",
       "      <td>HOBBIES</td>\n",
       "      <td>1</td>\n",
       "      <td>001</td>\n",
       "    </tr>\n",
       "    <tr>\n",
       "      <th>1</th>\n",
       "      <td>CA_1</td>\n",
       "      <td>HOBBIES_1_001</td>\n",
       "      <td>11326</td>\n",
       "      <td>9.58</td>\n",
       "      <td>CA</td>\n",
       "      <td>1</td>\n",
       "      <td>HOBBIES</td>\n",
       "      <td>1</td>\n",
       "      <td>001</td>\n",
       "    </tr>\n",
       "    <tr>\n",
       "      <th>2</th>\n",
       "      <td>CA_1</td>\n",
       "      <td>HOBBIES_1_001</td>\n",
       "      <td>11327</td>\n",
       "      <td>8.26</td>\n",
       "      <td>CA</td>\n",
       "      <td>1</td>\n",
       "      <td>HOBBIES</td>\n",
       "      <td>1</td>\n",
       "      <td>001</td>\n",
       "    </tr>\n",
       "    <tr>\n",
       "      <th>3</th>\n",
       "      <td>CA_1</td>\n",
       "      <td>HOBBIES_1_001</td>\n",
       "      <td>11328</td>\n",
       "      <td>8.26</td>\n",
       "      <td>CA</td>\n",
       "      <td>1</td>\n",
       "      <td>HOBBIES</td>\n",
       "      <td>1</td>\n",
       "      <td>001</td>\n",
       "    </tr>\n",
       "    <tr>\n",
       "      <th>4</th>\n",
       "      <td>CA_1</td>\n",
       "      <td>HOBBIES_1_001</td>\n",
       "      <td>11329</td>\n",
       "      <td>8.26</td>\n",
       "      <td>CA</td>\n",
       "      <td>1</td>\n",
       "      <td>HOBBIES</td>\n",
       "      <td>1</td>\n",
       "      <td>001</td>\n",
       "    </tr>\n",
       "  </tbody>\n",
       "</table>\n",
       "</div>"
      ],
      "text/plain": [
       "  store_id        item_id  wm_yr_wk  sell_price state store_in_state category  \\\n",
       "0     CA_1  HOBBIES_1_001     11325        9.58    CA              1  HOBBIES   \n",
       "1     CA_1  HOBBIES_1_001     11326        9.58    CA              1  HOBBIES   \n",
       "2     CA_1  HOBBIES_1_001     11327        8.26    CA              1  HOBBIES   \n",
       "3     CA_1  HOBBIES_1_001     11328        8.26    CA              1  HOBBIES   \n",
       "4     CA_1  HOBBIES_1_001     11329        8.26    CA              1  HOBBIES   \n",
       "\n",
       "  subcategory item_number  \n",
       "0           1         001  \n",
       "1           1         001  \n",
       "2           1         001  \n",
       "3           1         001  \n",
       "4           1         001  "
      ]
     },
     "execution_count": 6,
     "metadata": {},
     "output_type": "execute_result"
    }
   ],
   "source": [
    "filtered_sell_price_df['state'] = filtered_sell_price_df['store_id'].map(lambda x: x.split('_')[0])\n",
    "filtered_sell_price_df['store_in_state'] = filtered_sell_price_df['store_id'].map(lambda x: x.split('_')[1])\n",
    "filtered_sell_price_df['category'] = filtered_sell_price_df['item_id'].map(lambda x: x.split('_')[0])\n",
    "filtered_sell_price_df['subcategory'] = filtered_sell_price_df['item_id'].map(lambda x: x.split('_')[1])\n",
    "filtered_sell_price_df['item_number'] = filtered_sell_price_df['item_id'].map(lambda x: x.split('_')[2])\n",
    "\n",
    "filtered_sell_price_df.head()"
   ]
  },
  {
   "cell_type": "code",
   "execution_count": 7,
   "id": "288765ba",
   "metadata": {},
   "outputs": [
    {
     "data": {
      "text/plain": [
       "store_id          0\n",
       "item_id           0\n",
       "wm_yr_wk          0\n",
       "sell_price        0\n",
       "state             0\n",
       "store_in_state    0\n",
       "category          0\n",
       "subcategory       0\n",
       "item_number       0\n",
       "dtype: int64"
      ]
     },
     "execution_count": 7,
     "metadata": {},
     "output_type": "execute_result"
    }
   ],
   "source": [
    "filtered_sell_price_df.isna().sum()"
   ]
  },
  {
   "cell_type": "code",
   "execution_count": 8,
   "id": "fe25e14d",
   "metadata": {},
   "outputs": [],
   "source": [
    "filtered_sell_price_df.to_parquet(f'../{processed_folder_path}/sell_prices.parquet', index=False)"
   ]
  }
 ],
 "metadata": {
  "kernelspec": {
   "display_name": "thuenv",
   "language": "python",
   "name": "python3"
  },
  "language_info": {
   "codemirror_mode": {
    "name": "ipython",
    "version": 3
   },
   "file_extension": ".py",
   "mimetype": "text/x-python",
   "name": "python",
   "nbconvert_exporter": "python",
   "pygments_lexer": "ipython3",
   "version": "3.11.13"
  }
 },
 "nbformat": 4,
 "nbformat_minor": 5
}
